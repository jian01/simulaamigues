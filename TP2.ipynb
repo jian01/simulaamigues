{
 "cells": [
  {
   "cell_type": "code",
   "execution_count": 2,
   "metadata": {},
   "outputs": [],
   "source": [
    "from __future__ import print_function\n",
    "import matplotlib.pyplot as plt\n",
    "import random\n",
    "import numpy as np\n",
    "import seaborn as sns\n",
    "from mpl_toolkits.mplot3d import Axes3D\n",
    "from scipy import stats\n",
    "from matplotlib import colors\n",
    "from ipywidgets import interact, interactive, fixed, interact_manual\n",
    "import ipywidgets as widgets\n",
    "plt.rcParams.update({\n",
    "    \"text.usetex\": True,\n",
    "    \"font.family\": \"sans-serif\",\n",
    "    \"font.sans-serif\": [\"Helvetica\"]})"
   ]
  },
  {
   "cell_type": "markdown",
   "metadata": {},
   "source": [
    "# Ejercicio 1"
   ]
  },
  {
   "cell_type": "markdown",
   "metadata": {},
   "source": [
    "Se está diseñando un web service, el cual cada vez que es invocado consulta a una base de datos.\n",
    "Se estima que el tiempo que transcurre entre cada llamada al servicio se puede modelar según una distribución\n",
    "exponencial con media μ = 4 segundos. Se debe decidir la arquitectura de base de datos a utilizar entre las dos siguientes:\n",
    "\n",
    "1) Utilizar 2 bases de datos distribuidas.\n",
    "Con probabilidad p = 0.6 las solicitudes son atendidas por la base 1 y con probabilidad q = 1 − p son atendidos por\n",
    "la base de datos 2.\n",
    "El tiempo que demora cada base de datos en atender una solicitud sigue una distribución exponencial con\n",
    "medias, μ 1 = 0,7 seg y μ 2 = 1 seg respectivamente.\n",
    "\n",
    "2) Utilizar 1 base de datos central.\n",
    "En este caso la demora en resolver una solicitud sigue una distribución exponencial con μ = 0,8 segundos.\n",
    "\n",
    "Simular para cada opción 100000 solicitudes procesadas, determinando:\n",
    "\n",
    " - El tiempo medio de espera entre que la solicitud llega y puede ser procesada (suponer que ninguna conexión se\n",
    "cae por timeout).\n",
    "\n",
    " - La fracción de las solicitudes que no esperaron para ser procesadas.\n",
    " \n",
    " - La opción 1 es más costosa que la segunda opción y la empresa sólo acepta realizar la inversión si el tiempo medio\n",
    "que demora en resolver cada solicitud (tiempo en fila + tiempo de procesamiento) es como mínimo 50% menor\n",
    "que la opción 2. ¿Qué solución le recomienda?"
   ]
  },
  {
   "cell_type": "markdown",
   "metadata": {},
   "source": [
    "Comenzamos realizando la simulación para 100000 solicitudes procesadas en el escenario en que el tenemos una base de datos distribuida con dos nodos. Se generarán 100000 muestras correspondientes a los tiempos de arribo de las solicitudes según la tasa indicada en el enunciado, que luego serán divididas entre aquellas que son procesadas por la primera base y la segunda."
   ]
  },
  {
   "cell_type": "code",
   "execution_count": 79,
   "metadata": {},
   "outputs": [],
   "source": [
    "def simular_procesamiento_base_de_datos(tiempos_de_arribo, media):\n",
    "    z = np.random.exponential(media, len(tiempos_de_arribo))\n",
    "    t_actual = 0\n",
    "    tiempos_de_espera = []\n",
    "    tiempos_totales_de_procesamiento = []\n",
    "    for index, t_arribo in enumerate(tiempos_de_arribo):\n",
    "        if t_arribo < t_actual:\n",
    "            tiempos_de_espera.append(t_actual - t_arribo)\n",
    "            t_actual += z[index]\n",
    "            tiempos_totales_de_procesamiento.append(t_actual - t_arribo + z[index])\n",
    "        else:\n",
    "            tiempos_de_espera.append(0)\n",
    "            t_actual = t_arribo + z[index]\n",
    "            tiempos_totales_de_procesamiento.append(z[index])\n",
    "    return sum(tiempos_de_espera) / len(tiempos_de_espera), len([t for t in tiempos_de_espera if t == 0]) / len(tiempos_de_arribo), sum(tiempos_totales_de_procesamiento) / len(tiempos_totales_de_procesamiento)"
   ]
  },
  {
   "cell_type": "code",
   "execution_count": 83,
   "metadata": {},
   "outputs": [],
   "source": [
    "np.random.seed(32)\n",
    "media_arribos = 4            \n",
    "tasa_de_arribo = 1/media_arribos\n",
    "N = 100000\n",
    "p = 0.6\n",
    "media_base_1 = 0.7\n",
    "media_base_2 = 1\n",
    "\n",
    "#Generamos N tiempos de arribo.\n",
    "z = np.random.exponential(1/tasa_de_arribo, N)\n",
    "\n",
    "#Calculamos los tiempos de arribo.\n",
    "t = np.concatenate(([0], np.cumsum(z)), axis=None)\n",
    "\n",
    "#Separamos el proceso segun la base de datos donde sea procesada. Generamos probabilidades aleatorias y las iteramos.\n",
    "u = np.random.rand(N)\n",
    "\n",
    "t_base_1 = [0]\n",
    "t_base_2 = [0]\n",
    "\n",
    "for i in range(0, N):\n",
    "    if u[i] < p:\n",
    "        t_base_1.append(t[i])\n",
    "    else:\n",
    "        t_base_2.append(t[i])\n",
    "\n",
    "tiempo_medio_de_espera_base_1, fraccion_sin_espera_base_1, tiempo_medio_procesamiento_base_1 = simular_procesamiento_base_de_datos(t_base_1, media_base_1)\n",
    "tiempo_medio_de_espera_base_2, fraccion_sin_espera_base_2, tiempo_medio_procesamiento_base_2 = simular_procesamiento_base_de_datos(t_base_2, media_base_2)"
   ]
  },
  {
   "cell_type": "markdown",
   "metadata": {},
   "source": [
    "Utilizando un promedio ponderado, calculamos cual es el tiempo medio de entrega y la fracción de solicitudes que no debieron esperar para ser procesadas:"
   ]
  },
  {
   "cell_type": "code",
   "execution_count": 84,
   "metadata": {},
   "outputs": [
    {
     "name": "stdout",
     "output_type": "stream",
     "text": [
      "El tiempo medio de espera para una base distribuida con dos nodos es 0.09396557408749351 segundos.\n",
      "La fracción de solicitudes que no deben esperar en caso de que haya una base distribuida con dos nodos es 0.89839.\n",
      "El tiempo medio de procesamiento para una solicitud utilizando una base distribuida con dos nodos es 1.0006867507267798 segundos.\n"
     ]
    }
   ],
   "source": [
    "tiempo_promedio_de_espera = (tiempo_medio_de_espera_base_1 * len(t_base_1) + tiempo_medio_de_espera_base_2 * len(t_base_2)) / N\n",
    "fraccion_sin_espera = fraccion_sin_espera_base_1 * len(t_base_1) / N + fraccion_sin_espera_base_2 * len(t_base_2) / N\n",
    "tiempo_promedio_de_procesamiento = (tiempo_medio_procesamiento_base_1 * len(t_base_1) + tiempo_medio_procesamiento_base_2 * len(t_base_2)) / N\n",
    "\n",
    "print(\"El tiempo medio de espera para una base distribuida con dos nodos es {} segundos.\".format(tiempo_promedio_de_espera))\n",
    "print(\"La fracción de solicitudes que no deben esperar en caso de que haya una base distribuida con dos nodos es {}.\".format(fraccion_sin_espera))\n",
    "print(\"El tiempo medio de procesamiento para una solicitud utilizando una base distribuida con dos nodos es {} segundos.\".format(tiempo_promedio_de_procesamiento))"
   ]
  },
  {
   "cell_type": "markdown",
   "metadata": {},
   "source": [
    "Ahora, obtengamos las mismas mediciones pero realizando la simulación para el segundo escenario, en donde tenemos una única base de datos centralizada."
   ]
  },
  {
   "cell_type": "code",
   "execution_count": 86,
   "metadata": {},
   "outputs": [
    {
     "name": "stdout",
     "output_type": "stream",
     "text": [
      "El tiempo medio de espera para una base centralizada es 0.2007744701672654 segundos.\n",
      "La fracción de solicitudes que no deben esperar en caso de que haya una base centralizada es 0.7984520154798452.\n",
      "El tiempo medio de procesamiento para una solicitud utilizando una base centralizada es 1.1658036051222367 segundos.\n"
     ]
    }
   ],
   "source": [
    "np.random.seed(32)\n",
    "media_arribos = 4            \n",
    "tasa_de_arribo = 1/media_arribos\n",
    "N = 100000\n",
    "media_base = 0.8\n",
    "\n",
    "#Generamos N tiempos de arribo.\n",
    "z = np.random.exponential(1/tasa_de_arribo, N)\n",
    "\n",
    "#Calculamos los tiempos de arribo.\n",
    "t = np.concatenate(([0], np.cumsum(z)), axis=None)\n",
    "\n",
    "tiempo_medio_de_espera_base, fraccion_sin_espera_base, tiempo_promedio_de_procesamiento_base = simular_procesamiento_base_de_datos(t, media_base)\n",
    "print(\"El tiempo medio de espera para una base centralizada es {} segundos.\".format(tiempo_medio_de_espera_base))\n",
    "print(\"La fracción de solicitudes que no deben esperar en caso de que haya una base centralizada es {}.\".format(fraccion_sin_espera_base))\n",
    "print(\"El tiempo medio de procesamiento para una solicitud utilizando una base centralizada es {} segundos.\".format(tiempo_promedio_de_procesamiento_base))"
   ]
  },
  {
   "cell_type": "markdown",
   "metadata": {},
   "source": [
    "Vemos que, en el caso de utilizar una base distribuida con dos nodos a diferencia de una centralizada, hay una disminución del tiempo de procesamiento de una solicitud promedio, pasando de 1.1658036051222367 segundos a 1.0006867507267798 segundos. Sin embargo, esto no es suficiente para cumplir con lo solicitado, una disminución del tiempo del 50% (el tiempo de respuesta promedio de la base distribuida debería estar debajo de 0.5829018025611183 segundos).\n",
    "\n",
    "Por lo tanto, le recomendaríamos a la empresa que no realice la inversión y mantenga su infraesctructura actual, ya que al realizar al utilizar una base distribuida no se puede cumplir con el tiempo de procesamiento deseado."
   ]
  },
  {
   "cell_type": "code",
   "execution_count": null,
   "metadata": {},
   "outputs": [],
   "source": []
  }
 ],
 "metadata": {
  "kernelspec": {
   "display_name": "Python 3",
   "language": "python",
   "name": "python3"
  },
  "language_info": {
   "codemirror_mode": {
    "name": "ipython",
    "version": 3
   },
   "file_extension": ".py",
   "mimetype": "text/x-python",
   "name": "python",
   "nbconvert_exporter": "python",
   "pygments_lexer": "ipython3",
   "version": "3.6.9"
  }
 },
 "nbformat": 4,
 "nbformat_minor": 4
}
